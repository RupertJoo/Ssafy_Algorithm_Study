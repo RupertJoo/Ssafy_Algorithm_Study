{
 "cells": [
  {
   "cell_type": "markdown",
   "metadata": {},
   "source": [
    "Stack 2\n",
    "\n",
    "### Contents\n",
    "- [계산기1](#Calculator1)  \n",
    "- [계산기2](#Calculator2)  \n",
    "- [백트래킹](#Backtracking)\n",
    "- [부분집합과 순열](#Subset-&-Permutation)\n",
    "- [분할정복](#Divide-&-Conquer)"
   ]
  },
  {
   "cell_type": "markdown",
   "metadata": {},
   "source": [
    "[[To contents]](#contents)   \n",
    "### calculator1  \n",
    "문자열로 된 계산식이 주어질 경우 스택을 이용하여 계산식의 값을 계산할 수 있다.  \n",
    "- step1: 중위표기법으로 된 수식을 스택을 이용하여 후위표기법으로 바꾼다  \n",
    "- step2: 후위표기법으로 된 수식을 스택을 이용하여 계산한다  \n",
    "```\n",
    "중위표기법(infix notation)\n",
    "- 연산자를 피연산자 가운데 표기한다  \n",
    "- ex) A + B\n",
    "후위표기법(postfix notation)\n",
    "- 연산자를 피연산자 뒤에 표기한다\n",
    "- ex) AB+\n",
    "```"
   ]
  },
  {
   "cell_type": "markdown",
   "metadata": {},
   "source": [
    "[[To contents]](#contents)  \n",
    "### calculator2"
   ]
  },
  {
   "cell_type": "markdown",
   "metadata": {},
   "source": [
    "[[To contents]](#contents)  \n",
    "### Backtracking"
   ]
  },
  {
   "cell_type": "markdown",
   "metadata": {},
   "source": [
    "[[To contents]](#contents)  \n",
    "### Subset & Permutation"
   ]
  },
  {
   "cell_type": "markdown",
   "metadata": {},
   "source": [
    "[[To contents]](#contents)  \n",
    "### #Divide & Conquer"
   ]
  }
 ],
 "metadata": {
  "kernelspec": {
   "display_name": "Python 3",
   "language": "python",
   "name": "python3"
  },
  "language_info": {
   "name": "python",
   "version": "3.11.1"
  },
  "orig_nbformat": 4
 },
 "nbformat": 4,
 "nbformat_minor": 2
}
