{
 "cells": [
  {
   "cell_type": "code",
   "execution_count": 4,
   "metadata": {},
   "outputs": [
    {
     "name": "stdout",
     "output_type": "stream",
     "text": [
      "19940416\n",
      "<class 'int'>\n"
     ]
    }
   ],
   "source": [
    "# 숫자로만 이루어진 문자열을 숫자로 변환\n",
    "def atoi(text):\n",
    "    i = 0\n",
    "    for t in text:\n",
    "        i = i * 10 + ord(t) - ord(\"0\")\n",
    "    return i\n",
    "\n",
    "x = atoi(\"19940416\")\n",
    "print(atoi(\"19940416\"))\n",
    "print(type(x))"
   ]
  },
  {
   "cell_type": "markdown",
   "metadata": {},
   "source": [
    "패턴 매칭에 사용되는 알고리즘  \n",
    "- Brute force Algo'  \n",
    "- Ravin-Karp Algo' 문자열의 해싱 기법    \n",
    "- KMP Algo' Knuth, Morris, Prett 접두사(prefix)와 접미산(suffix)를 활용\n",
    "- Boyer-Moore Algo'  \n",
    "\n",
    "\n",
    "암호화:xor 사용\n"
   ]
  },
  {
   "cell_type": "code",
   "execution_count": 7,
   "metadata": {},
   "outputs": [
    {
     "name": "stdout",
     "output_type": "stream",
     "text": [
      "2\n"
     ]
    }
   ],
   "source": [
    "ptn = \"is\"\n",
    "text = 'This is theshy'\n",
    "m = len(ptn)\n",
    "n = len(text)\n",
    "\n",
    "def BruteForce(ptn, text):\n",
    "    i = 0  # index for text\n",
    "    j = 0  # index for ptn\n",
    "    while j < m and i < n:\n",
    "        if text[i] != ptn[j]:\n",
    "            i = i - j\n",
    "            j = -1\n",
    "        i += 1\n",
    "        j += 1\n",
    "    if j == m: return i - m  # 검색 성공 시 return index\n",
    "    else:\n",
    "        return -1  # 검색 실패\n",
    "    \n",
    "print(BruteForce(ptn, text))"
   ]
  },
  {
   "cell_type": "markdown",
   "metadata": {},
   "source": [
    "스택1  \n",
    "스택: FILO 선형 자료구조  \n",
    "- 스택의 연산  \n",
    "    |연산|기능|   \n",
    "    |:---:|:---| \n",
    "    |push(item)|스택의 뒤에 원소 삽입|  \n",
    "    |pop()|스택에 뒤 원소 삭제 후 반환|  \n",
    "    |isEmpty()|스택의 공백여부 판단|  \n",
    "    |isFull()|스택의 포화여부 판단|  \n",
    "    |peek()|스택의 뒤 원소를 삭제없이 반환|  \n",
    "\n",
    "##### contents     \n",
    "- [재귀호출](#recursive-call)  \n",
    "- [Memoization](#Memoization)  \n",
    "- [DP](#DP)  \n",
    "- [DFS](#DFS)  "
   ]
  },
  {
   "cell_type": "code",
   "execution_count": null,
   "metadata": {},
   "outputs": [],
   "source": [
    "def push(item, size_stack):\n",
    "    global top\n",
    "    if top == size_stack - 1:\n",
    "        print(\"StackOverFlow!\")\n",
    "        return -1\n",
    "    top += 1\n",
    "    stack[top] = item\n",
    "\n",
    "def pop():\n",
    "    global top\n",
    "    if top == -1:\n",
    "        print(\"StackUnderFlow!\")\n",
    "        return -1\n",
    "    top -= 1\n",
    "    return stack[top + 1]\n",
    "    \n",
    "\n",
    "size_stack = 5\n",
    "stack = [0] * size_stack\n",
    "top = -1\n",
    "for i in range(1,size_stack + 5):\n",
    "    push(i,size_stack)\n",
    "print(stack)\n",
    "for j in range(1,size_stack + 5):\n",
    "    print(pop())\n"
   ]
  },
  {
   "cell_type": "code",
   "execution_count": 14,
   "metadata": {},
   "outputs": [
    {
     "name": "stdout",
     "output_type": "stream",
     "text": [
      "1\n",
      "0\n",
      "0\n",
      "0\n"
     ]
    }
   ],
   "source": [
    "\n",
    "lst_text = [\"( )( )((( )))\",\n",
    "\"((( )((((( )( )((( )( ))((( ))))))\",\n",
    "\"())\",\n",
    "\"(()\"]\n",
    "\n",
    "\n",
    "\n",
    "text = \"((())\"\n",
    "def bracketTest(text):\n",
    "    len_text = len(text)\n",
    "    stack = [0] * 50\n",
    "    top = -1\n",
    "    ans = 1\n",
    "    for t in text:\n",
    "        if t == \"(\":\n",
    "            top += 1\n",
    "            # stack[top] = t\n",
    "        elif t == \")\":\n",
    "            if top > -1:\n",
    "                top -= 1\n",
    "                x = stack[top + 1]\n",
    "\n",
    "            else:\n",
    "                return 0\n",
    "                  \n",
    "    if top > -1:\n",
    "        return 0\n",
    "    return ans\n",
    "for text in lst_text:\n",
    "    print(bracketTest(text))\n",
    "\n",
    "\n"
   ]
  },
  {
   "cell_type": "markdown",
   "metadata": {},
   "source": [
    "### Function Call  \n",
    "- 프로그램에서 함수 호출과 복귀에 따른 순서 관리.  \n",
    "- 가장 마지막에 호출된 함수가 가장 먼저 실행을 마친다(FILO)  \n",
    "- 함수 호출 시 함수 실행에 필요한 지역변수, 전역변수, 주소 등의 정보는 스택 프레임에 저장되어 시스템 스택에 삽입된다.  \n",
    "- 함수 종료 시 시스템 스택 내 top원소를 제거하며 프레임에 저장된 복귀주소를 확인하여 복귀\n"
   ]
  },
  {
   "cell_type": "markdown",
   "metadata": {},
   "source": [
    "### Recursive call  \n",
    "[[to contents]](#contents) \n"
   ]
  },
  {
   "cell_type": "markdown",
   "metadata": {},
   "source": [
    "\n",
    "### Memoization  \n",
    "[[to contents]](#contents)\n",
    "\n",
    "재귀를 활용한 프로그래밍 시 중복호출을 막기 위해 사용한다.  \n",
    "동적 계획법에 핵심. to put in memory\n",
    "\n"
   ]
  },
  {
   "cell_type": "code",
   "execution_count": 22,
   "metadata": {},
   "outputs": [
    {
     "name": "stdout",
     "output_type": "stream",
     "text": [
      "610\n",
      "0 1 1 2 3 5 8 13 21 34 55 89 144 233 377 610\n"
     ]
    }
   ],
   "source": [
    "def fibo_memo(i):  # 함수 내에서 fibo_memo()를 호출하지만 반환하는 것은 memo[i]!\n",
    "    global memo\n",
    "    if i >= 2 and not memo[i]:\n",
    "        memo[i] = fibo_memo(i - 1) + fibo_memo(i - 2)\n",
    "    return memo[i]\n",
    "\n",
    "n = 15\n",
    "memo = [0] * (n + 1)\n",
    "memo[1] = 1\n",
    "fibo_n_th = fibo_memo(n)\n",
    "print(fibo_n_th)\n",
    "print(*memo)"
   ]
  },
  {
   "cell_type": "markdown",
   "metadata": {},
   "source": [
    "### DP (Dynamic Programming)    \n",
    "[[to contents]](#contents)\n",
    "\n",
    "최적화 문제를 해결하는 알고리즘  \n",
    "가장 작은 부분 문제들을 해결 후 보다 큰 부분 부분 문제들을 해결하여 최종적으로 원래 주어진 입력의 문제를 해결.  \n"
   ]
  },
  {
   "cell_type": "markdown",
   "metadata": {},
   "source": []
  },
  {
   "cell_type": "markdown",
   "metadata": {},
   "source": [
    "### DFS  \n",
    "[[to Contents]](#contents)  \n",
    "비선형 자료구조(그래프) 탐색 시 크게 두 가지 방법이 사용된다.  \n",
    "DFS, BFS  \n",
    "시작정점에서부터 탐색 가능한 깊이까지 탐색. 다음 정점으로 이동 전 기존 정점위치를 스택에 저장한다.\n",
    "탐색이 불가할 때, 스택을 pop하여 직전 정점위치로 되돌아가 탐색을 진행.\n",
    "\n",
    "\n"
   ]
  },
  {
   "cell_type": "markdown",
   "metadata": {},
   "source": []
  }
 ],
 "metadata": {
  "kernelspec": {
   "display_name": "Python 3",
   "language": "python",
   "name": "python3"
  },
  "language_info": {
   "codemirror_mode": {
    "name": "ipython",
    "version": 3
   },
   "file_extension": ".py",
   "mimetype": "text/x-python",
   "name": "python",
   "nbconvert_exporter": "python",
   "pygments_lexer": "ipython3",
   "version": "3.11.1"
  },
  "orig_nbformat": 4
 },
 "nbformat": 4,
 "nbformat_minor": 2
}
