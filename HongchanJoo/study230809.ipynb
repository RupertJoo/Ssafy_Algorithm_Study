{
 "cells": [
  {
   "cell_type": "code",
   "execution_count": null,
   "metadata": {},
   "outputs": [],
   "source": []
  },
  {
   "cell_type": "markdown",
   "metadata": {},
   "source": [
    "스택1  \n",
    "스택: FILO 선형 자료구조  \n",
    "- 스택의 연산  \n",
    "    |연산|기능|   \n",
    "    |:---:|:---| \n",
    "    |push(item)|스택의 뒤에 원소 삽입|  \n",
    "    |pop()|스택에 뒤 원소 삭제 후 반환|  \n",
    "    |isEmpty()|스택의 공백여부 판단|  \n",
    "    |isFull()|스택의 포화여부 판단|  \n",
    "    |peek()|스택의 뒤 원소를 삭제없이 반환|  \n",
    "\n",
    "##### contents     \n",
    "- [재귀호출](#recursive-call)  \n",
    "- [Memoization](#Memoization)  \n",
    "- [DP](#DP)  \n",
    "- [DFS](#DFS)  "
   ]
  },
  {
   "cell_type": "code",
   "execution_count": null,
   "metadata": {},
   "outputs": [],
   "source": [
    "def push(item, size_stack):\n",
    "    global top\n",
    "    if top == size_stack - 1:\n",
    "        print(\"StackOverFlow!\")\n",
    "        return -1\n",
    "    top += 1\n",
    "    stack[top] = item\n",
    "\n",
    "def pop():\n",
    "    global top\n",
    "    if top == -1:\n",
    "        print(\"StackUnderFlow!\")\n",
    "        return -1\n",
    "    top -= 1\n",
    "    return stack[top + 1]\n",
    "    \n",
    "\n",
    "size_stack = 5\n",
    "stack = [0] * size_stack\n",
    "top = -1\n",
    "for i in range(1,size_stack + 5):\n",
    "    push(i,size_stack)\n",
    "print(stack)\n",
    "for j in range(1,size_stack + 5):\n",
    "    print(pop())\n"
   ]
  },
  {
   "cell_type": "markdown",
   "metadata": {},
   "source": [
    "### Recursive call  \n",
    "[[to contents]](#contents) "
   ]
  },
  {
   "cell_type": "markdown",
   "metadata": {},
   "source": [
    "\n",
    "### Memoization  \n",
    "[[to contents]](#contents)"
   ]
  },
  {
   "cell_type": "markdown",
   "metadata": {},
   "source": [
    "### DP  \n",
    "[[to contents]](#contents)\n"
   ]
  },
  {
   "cell_type": "markdown",
   "metadata": {},
   "source": [
    "### DFS  \n",
    "[[to Contents]](#contents)  \n",
    "\n"
   ]
  },
  {
   "cell_type": "markdown",
   "metadata": {},
   "source": []
  }
 ],
 "metadata": {
  "kernelspec": {
   "display_name": "Python 3",
   "language": "python",
   "name": "python3"
  },
  "language_info": {
   "codemirror_mode": {
    "name": "ipython",
    "version": 3
   },
   "file_extension": ".py",
   "mimetype": "text/x-python",
   "name": "python",
   "nbconvert_exporter": "python",
   "pygments_lexer": "ipython3",
   "version": "3.9.13"
  },
  "orig_nbformat": 4
 },
 "nbformat": 4,
 "nbformat_minor": 2
}
