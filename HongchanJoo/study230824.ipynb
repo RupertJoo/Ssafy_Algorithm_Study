{
 "cells": [
  {
   "cell_type": "code",
   "execution_count": null,
   "metadata": {},
   "outputs": [],
   "source": []
  },
  {
   "cell_type": "markdown",
   "metadata": {},
   "source": []
  },
  {
   "cell_type": "code",
   "execution_count": 1,
   "metadata": {},
   "outputs": [
    {
     "name": "stdout",
     "output_type": "stream",
     "text": [
      "0000111 , 7\n",
      "1100101 , 101\n",
      "1110100 , 116\n",
      "011 , 3\n",
      "0000000 , 0\n",
      "1110100 , 116\n",
      "0001100 , 12\n",
      "0000111 , 7\n",
      "1001100 , 76\n",
      "0011000 , 24\n",
      "0111010 , 58\n",
      "1111001 , 121\n",
      "1111100 , 124\n",
      "1100111 , 103\n",
      "11 , 3\n"
     ]
    },
    {
     "data": {
      "text/plain": [
       "'\\n0000000 1110100 0001100 0000111 1001100 0011000 0111010 1111001 1111100 1100111 11 \\n0 116 12 7 76 24 58 121 124 103 3\\n'"
      ]
     },
     "execution_count": 1,
     "metadata": {},
     "output_type": "execute_result"
    }
   ],
   "source": [
    "hex1 = \"0F97A3\"\n",
    "hex2 = \"01D06079861D79F99F\"\n",
    "\n",
    "\n",
    "def solution(hex_string):\n",
    "    # hex_string : 16진수 문자열\n",
    "    # 이걸 2진수 문자열로 바꾸면 길이 * 4\n",
    "    l = len(hex_string) * 4\n",
    "\n",
    "    # 16진수 문자열을 숫자로 바꾸기\n",
    "    x = int(hex_string, 16)\n",
    "\n",
    "    result = \"\"\n",
    "    # 7칸씩 잘라서 이진수로 만든 뒤에 이진수 출력\n",
    "    # 이진수를 10진수로 바꾸고 출력\n",
    "    for i in range(l - 1, -1, -7):\n",
    "        # 현재 위치 i에서 7개 잘라서 이진수 만들어서 출력\n",
    "        # 이진수로 바꾼 결과 문자열\n",
    "        bin_string = \"\"\n",
    "        # l-1 - 0 , l-1 - 1 , l-1 - 2, l-1 - 3, l-1 - 4, l-1 - 5 , l-1 - 6 : 1번째'\n",
    "        for j in range(7):\n",
    "            # x 의 i - j 번째 비트를 판별\n",
    "            # x & (1 << i - j)\n",
    "            if i - j < 0:  # 자를 비트가 7개 미만 남았을때\n",
    "                break\n",
    "            bin_string += \"1\" if x & (1 << i - j) else \"0\"\n",
    "        print(bin_string, end=\" , \")\n",
    "        dec = int(bin_string, 2)  # 2진수 문자열 10진수로 바꾸기\n",
    "        print(dec)\n",
    "\n",
    "\n",
    "solution(hex1)\n",
    "\"\"\"\n",
    "0000111 1100101 1110100 011 \n",
    "7 101 116 3\n",
    "\"\"\"\n",
    "solution(hex2)\n",
    "\"\"\"\n",
    "0000000 1110100 0001100 0000111 1001100 0011000 0111010 1111001 1111100 1100111 11 \n",
    "0 116 12 7 76 24 58 121 124 103 3\n",
    "\"\"\"\n"
   ]
  }
 ],
 "metadata": {
  "kernelspec": {
   "display_name": "Python 3",
   "language": "python",
   "name": "python3"
  },
  "language_info": {
   "codemirror_mode": {
    "name": "ipython",
    "version": 3
   },
   "file_extension": ".py",
   "mimetype": "text/x-python",
   "name": "python",
   "nbconvert_exporter": "python",
   "pygments_lexer": "ipython3",
   "version": "3.9.13"
  },
  "orig_nbformat": 4
 },
 "nbformat": 4,
 "nbformat_minor": 2
}
