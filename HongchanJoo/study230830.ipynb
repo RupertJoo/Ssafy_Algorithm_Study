{
 "cells": [
  {
   "cell_type": "code",
   "execution_count": 1,
   "metadata": {},
   "outputs": [
    {
     "name": "stdout",
     "output_type": "stream",
     "text": [
      "[1, 2, 3]\n",
      "[1, 3, 2]\n",
      "[2, 1, 3]\n",
      "[2, 3, 1]\n",
      "[3, 2, 1]\n",
      "[3, 1, 2]\n"
     ]
    }
   ],
   "source": [
    "list_str = [\"124783\", \n",
    "            \"667767\", \n",
    "            \"054060\", \n",
    "            \"101123\",\n",
    "            ]\n",
    "def perm(i, k):\n",
    "    if i == k:\n",
    "        if tuple(perm) not in set_perm:\n",
    "            set_perm.add(tuple(perm))\n",
    "\n",
    "        \n",
    "    else:\n",
    "        for j in range(i,k):\n",
    "            list_str[i], list_str[j] = list_str[j], list_str[i]\n",
    "            perm(i + 1,k)\n",
    "            list_str[i], list_str[j] = list_str[j], list_str[i]\n",
    "set_perm = set()\n",
    "ans = \n",
    "perm(0,6)"
   ]
  }
 ],
 "metadata": {
  "kernelspec": {
   "display_name": "Python 3",
   "language": "python",
   "name": "python3"
  },
  "language_info": {
   "codemirror_mode": {
    "name": "ipython",
    "version": 3
   },
   "file_extension": ".py",
   "mimetype": "text/x-python",
   "name": "python",
   "nbconvert_exporter": "python",
   "pygments_lexer": "ipython3",
   "version": "3.9.13"
  },
  "orig_nbformat": 4
 },
 "nbformat": 4,
 "nbformat_minor": 2
}
