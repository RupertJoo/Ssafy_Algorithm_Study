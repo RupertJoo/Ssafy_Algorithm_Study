{
 "cells": [
  {
   "cell_type": "code",
   "execution_count": 1,
   "metadata": {},
   "outputs": [
    {
     "name": "stdout",
     "output_type": "stream",
     "text": [
      "123456\n"
     ]
    }
   ],
   "source": [
    "s = '123456'\n",
    "\n",
    "def atoi(s):\n",
    "    i = 0\n",
    "    for x in s:\n",
    "        i = i * 10 + ord(x) - ord('0')\n",
    "    return i\n",
    "\n",
    "print(atoi(s))"
   ]
  },
  {
   "cell_type": "code",
   "execution_count": 3,
   "metadata": {},
   "outputs": [
    {
     "name": "stdout",
     "output_type": "stream",
     "text": [
      "4\n"
     ]
    }
   ],
   "source": [
    "ptn = \"punch\"\n",
    "text = \"firepunch, he is the God..!\" \n",
    "m = len(ptn)\n",
    "n = len(text)\n",
    "\n",
    "def bruteforce(ptn, text):\n",
    "    i = 0\n",
    "    j = 0\n",
    "    while j < m and i < n:\n",
    "        if text[i] != ptn[j]:\n",
    "            i = i - j\n",
    "            j = -1\n",
    "        i += 1\n",
    "        j += 1\n",
    "    if j == m:\n",
    "        return i - m\n",
    "    else:\n",
    "        return -1\n",
    "\n",
    "\n",
    "print(bruteforce(ptn, text))\n",
    "             \n"
   ]
  },
  {
   "cell_type": "code",
   "execution_count": null,
   "metadata": {},
   "outputs": [],
   "source": []
  }
 ],
 "metadata": {
  "kernelspec": {
   "display_name": "Python 3",
   "language": "python",
   "name": "python3"
  },
  "language_info": {
   "codemirror_mode": {
    "name": "ipython",
    "version": 3
   },
   "file_extension": ".py",
   "mimetype": "text/x-python",
   "name": "python",
   "nbconvert_exporter": "python",
   "pygments_lexer": "ipython3",
   "version": "3.9.13"
  },
  "orig_nbformat": 4
 },
 "nbformat": 4,
 "nbformat_minor": 2
}
