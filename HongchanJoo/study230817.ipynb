{
 "cells": [
  {
   "cell_type": "markdown",
   "metadata": {},
   "source": [
    "큐(Queue): 삽입과 삭제의 위치가 제한적인 자료구조(FIFO)  \n",
    "- 선형큐: 1차원 배열을 활용한 큐  \n",
    "    - 큐의 크기 = 배열의 크기  \n",
    "    - front:  \n",
    "    - end:  \n",
    "    상태표현  \n",
    "    - 초기상태:\n",
    "    - 공백상태:  \n",
    "    - 포화상태:  \n",
    "- 원형큐  \n",
    "- 우선순위 큐  \n",
    "- 버퍼  \n",
    "- BFS\n",
    "- BFS 예제  \n",
    "\n",
    "큐의 주요 연산\n",
    "|연산|기능|\n",
    "|:---:|:---|\n",
    "|enQueue(item)|큐의 뒤에 원소 삽입|\n",
    "|deQueue()|큐의 앞 원소 삭제 후 반환|\n",
    "|createQueue()|공백 큐 생성|\n",
    "|isEmpty()|큐의 공백여부 판단|\n",
    "|isFull()|큐의 포화여부 판단|\n",
    "|Qpeek()|큐의 앞 원소를 삭제없이 반환|"
   ]
  },
  {
   "cell_type": "code",
   "execution_count": 12,
   "metadata": {},
   "outputs": [
    {
     "name": "stdout",
     "output_type": "stream",
     "text": [
      "[1, 0, 0]\n",
      "[1, 2, 0]\n",
      "[1, 2, 3]\n",
      "Q is Full\n",
      "1\n",
      "2\n",
      "3\n"
     ]
    }
   ],
   "source": [
    "# queue1\n",
    "\n",
    "def enQ(data):\n",
    "    global rear\n",
    "    if rear == sizeQ - 1:\n",
    "        print(\"Q is Full\")\n",
    "    else:\n",
    "        rear += 1\n",
    "        Q[rear] = data\n",
    "\n",
    "def deQ():\n",
    "    global front\n",
    "    if front == rear:\n",
    "        print(\"Q is Enpty..\")\n",
    "        return -1\n",
    "    else:\n",
    "        front += 1\n",
    "        return Q[front]\n",
    "\n",
    "Q = [0] * 3\n",
    "sizeQ = len(Q)\n",
    "rear = -1\n",
    "front = -1\n",
    "\n",
    "enQ(1)\n",
    "print(Q)\n",
    "enQ(2)\n",
    "print(Q)\n",
    "rear += 1\n",
    "Q[rear] = 3\n",
    "print(Q)\n",
    "enQ(4)\n",
    "\n",
    "while front != rear:\n",
    "    front += 1\n",
    "    print(Q[front])\n",
    "\n",
    "# print(deQ())\n",
    "# print(deQ())\n",
    "# front += 1\n",
    "# temp = Q[front]\n",
    "# print(temp)\n",
    "# print(deQ())\n",
    "# print(deQ())"
   ]
  },
  {
   "cell_type": "code",
   "execution_count": 15,
   "metadata": {},
   "outputs": [
    {
     "name": "stdout",
     "output_type": "stream",
     "text": [
      "[1, 2, 3]\n",
      "1\n",
      "2\n",
      "3\n"
     ]
    }
   ],
   "source": [
    "q = []\n",
    "q.append(1)\n",
    "q.append(2)\n",
    "q.append(3)\n",
    "print(q)\n",
    "print(q.pop(0))\n",
    "print(q.pop(0))\n",
    "print(q.pop(0))"
   ]
  },
  {
   "cell_type": "code",
   "execution_count": 18,
   "metadata": {},
   "outputs": [
    {
     "name": "stdout",
     "output_type": "stream",
     "text": [
      "[0, 1, 2, 3]\n",
      "1\n",
      "2\n",
      "[4, 1, 2, 3]\n"
     ]
    }
   ],
   "source": [
    "def enQ(data):\n",
    "    global rear\n",
    "    rear = (rear + 1) % size_cQ\n",
    "    circularQ[rear] = data\n",
    "\n",
    "def deQ():\n",
    "    global front\n",
    "    front = (front + 1) % size_cQ\n",
    "    return circularQ[front]\n",
    "\n",
    "size_cQ = 4\n",
    "circularQ = [0] * size_cQ\n",
    "front = 0\n",
    "rear = 0\n",
    "\n",
    "enQ(1)\n",
    "enQ(2)\n",
    "enQ(3)\n",
    "print(circularQ)\n",
    "print(deQ())\n",
    "print(deQ())\n",
    "enQ(4)\n",
    "print(circularQ)"
   ]
  },
  {
   "cell_type": "code",
   "execution_count": 25,
   "metadata": {},
   "outputs": [
    {
     "name": "stdout",
     "output_type": "stream",
     "text": [
      "1\n",
      "2\n",
      "3\n",
      "4\n",
      "5\n",
      "6\n",
      "7\n",
      "8\n",
      "9\n",
      "10\n",
      "queue is empty\n",
      "-1\n",
      "[1, 2, 3, 4, 5, 6, 7, 8, 9, 10]\n"
     ]
    }
   ],
   "source": [
    "size = 10\n",
    "q = [0] * 10\n",
    "front = rear = -1\n",
    "\n",
    "# 삽입 연산\n",
    "def enq(item):\n",
    "    global rear\n",
    "    if rear == size - 1:\n",
    "        print('queue is full')\n",
    "        return -1\n",
    "    rear += 1\n",
    "    q[rear] = item\n",
    "\n",
    "\n",
    "def deq():\n",
    "    global front\n",
    "    if isEmpty():\n",
    "        print(\"queue is empty\")\n",
    "        return -1\n",
    "    else:\n",
    "        front += 1\n",
    "        return q[front]\n",
    "\n",
    "def isFull():\n",
    "    return front == size - 1\n",
    "\n",
    "\n",
    "def isEmpty():\n",
    "    return front == rear \n",
    "\n",
    "\n",
    "for i in range(1,11):\n",
    "    enq(i)\n",
    "for _ in range(11):\n",
    "    print(deq())\n",
    "print(q)"
   ]
  },
  {
   "cell_type": "code",
   "execution_count": 30,
   "metadata": {},
   "outputs": [
    {
     "name": "stdout",
     "output_type": "stream",
     "text": [
      "circular queue is full\n",
      "circular queue is full\n",
      "circular queue is full\n",
      "[0, 1, 4, 9, 16, 25, 36, 49, 64, 81]\n",
      "1\n",
      "4\n",
      "9\n",
      "16\n",
      "25\n",
      "36\n",
      "49\n",
      "64\n",
      "81\n",
      "queue is empty\n",
      "-1\n",
      "queue is empty\n",
      "-1\n",
      "[0, 1, 4, 9, 16, 25, 36, 49, 64, 81]\n"
     ]
    }
   ],
   "source": [
    "size = 10\n",
    "cq = [0] * size\n",
    "front = rear = 0\n",
    "\n",
    "def enq(item):\n",
    "    global rear\n",
    "    # 큐가 가득 차 있을 때에는 삽입하지 않는다.\n",
    "    if isFull():\n",
    "        print(\"circular queue is full\")\n",
    "        return -1\n",
    "    else:\n",
    "        rear = (rear + 1) % size\n",
    "        cq[rear] = item\n",
    "\n",
    "\n",
    "def deq():\n",
    "    global front\n",
    "    if isEmpty():\n",
    "        print(\"queue is empty\")\n",
    "        return -1\n",
    "    else:\n",
    "        front = (front + 1) % size\n",
    "        return cq[front]\n",
    "\n",
    "\n",
    "def isEmpty():\n",
    "    return front == rear\n",
    "\n",
    "\n",
    "def isFull():\n",
    "    return (rear + 1) % size == front\n",
    "\n",
    "\n",
    "for i in range(1, 12 + 1):\n",
    "    enq(i ** 2)\n",
    "print(cq)\n",
    "for j in range(11):\n",
    "    print(deq())\n",
    "print(cq)"
   ]
  }
 ],
 "metadata": {
  "kernelspec": {
   "display_name": "Python 3",
   "language": "python",
   "name": "python3"
  },
  "language_info": {
   "codemirror_mode": {
    "name": "ipython",
    "version": 3
   },
   "file_extension": ".py",
   "mimetype": "text/x-python",
   "name": "python",
   "nbconvert_exporter": "python",
   "pygments_lexer": "ipython3",
   "version": "3.9.13"
  },
  "orig_nbformat": 4
 },
 "nbformat": 4,
 "nbformat_minor": 2
}
