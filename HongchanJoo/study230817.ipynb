{
 "cells": [
  {
   "cell_type": "markdown",
   "metadata": {},
   "source": [
    "큐(Queue): 삽입과 삭제의 위치가 제한적인 자료구조(FIFO)  \n",
    "- 선형큐: 1차원 배열을 활용한 큐  \n",
    "    - 큐의 크기 = 배열의 크기  \n",
    "    - front:  \n",
    "    - end:  \n",
    "    상태표현  \n",
    "    - 초기상태:\n",
    "    - 공백상태:  \n",
    "    - 포화상태:  \n",
    "### contents\n",
    "- [원형큐](#Circular-Queue)  \n",
    "- [우선순위 큐](#Priority-Queue)  \n",
    "- [버퍼](#Buffer)  \n",
    "- [BFS](#BFS)\n",
    "- [BFS 예제](#BFS-Examples)  \n",
    "\n",
    "큐의 주요 연산\n",
    "|연산|기능|\n",
    "|:---:|:---|\n",
    "|enQueue(item)|큐의 뒤에 원소 삽입|\n",
    "|deQueue()|큐의 앞 원소 삭제 후 반환|\n",
    "|createQueue()|공백 큐 생성|\n",
    "|isEmpty()|큐의 공백여부 판단|\n",
    "|isFull()|큐의 포화여부 판단|\n",
    "|Qpeek()|큐의 앞 원소를 삭제없이 반환|"
   ]
  },
  {
   "cell_type": "code",
   "execution_count": 12,
   "metadata": {},
   "outputs": [
    {
     "name": "stdout",
     "output_type": "stream",
     "text": [
      "[1, 0, 0]\n",
      "[1, 2, 0]\n",
      "[1, 2, 3]\n",
      "Q is Full\n",
      "1\n",
      "2\n",
      "3\n"
     ]
    }
   ],
   "source": [
    "# queue1\n",
    "\n",
    "def enQ(data):\n",
    "    global rear\n",
    "    if rear == sizeQ - 1:\n",
    "        print(\"Q is Full\")\n",
    "    else:\n",
    "        rear += 1\n",
    "        Q[rear] = data\n",
    "\n",
    "def deQ():\n",
    "    global front\n",
    "    if front == rear:\n",
    "        print(\"Q is Enpty..\")\n",
    "        return -1\n",
    "    else:\n",
    "        front += 1\n",
    "        return Q[front]\n",
    "\n",
    "Q = [0] * 3\n",
    "sizeQ = len(Q)\n",
    "rear = -1\n",
    "front = -1\n",
    "\n",
    "enQ(1)\n",
    "print(Q)\n",
    "enQ(2)\n",
    "print(Q)\n",
    "rear += 1\n",
    "Q[rear] = 3\n",
    "print(Q)\n",
    "enQ(4)\n",
    "\n",
    "while front != rear:\n",
    "    front += 1\n",
    "    print(Q[front])\n",
    "\n",
    "# print(deQ())\n",
    "# print(deQ())\n",
    "# front += 1\n",
    "# temp = Q[front]\n",
    "# print(temp)\n",
    "# print(deQ())\n",
    "# print(deQ())"
   ]
  },
  {
   "cell_type": "code",
   "execution_count": 15,
   "metadata": {},
   "outputs": [
    {
     "name": "stdout",
     "output_type": "stream",
     "text": [
      "[1, 2, 3]\n",
      "1\n",
      "2\n",
      "3\n"
     ]
    }
   ],
   "source": [
    "q = []\n",
    "q.append(1)\n",
    "q.append(2)\n",
    "q.append(3)\n",
    "print(q)\n",
    "print(q.pop(0))\n",
    "print(q.pop(0))\n",
    "print(q.pop(0))"
   ]
  },
  {
   "cell_type": "code",
   "execution_count": 18,
   "metadata": {},
   "outputs": [
    {
     "name": "stdout",
     "output_type": "stream",
     "text": [
      "[0, 1, 2, 3]\n",
      "1\n",
      "2\n",
      "[4, 1, 2, 3]\n"
     ]
    }
   ],
   "source": [
    "def enQ(data):\n",
    "    global rear\n",
    "    rear = (rear + 1) % size_cQ\n",
    "    circularQ[rear] = data\n",
    "\n",
    "def deQ():\n",
    "    global front\n",
    "    front = (front + 1) % size_cQ\n",
    "    return circularQ[front]\n",
    "\n",
    "size_cQ = 4\n",
    "circularQ = [0] * size_cQ\n",
    "front = 0\n",
    "rear = 0\n",
    "\n",
    "enQ(1)\n",
    "enQ(2)\n",
    "enQ(3)\n",
    "print(circularQ)\n",
    "print(deQ())\n",
    "print(deQ())\n",
    "enQ(4)\n",
    "print(circularQ)"
   ]
  },
  {
   "cell_type": "code",
   "execution_count": 25,
   "metadata": {},
   "outputs": [
    {
     "name": "stdout",
     "output_type": "stream",
     "text": [
      "1\n",
      "2\n",
      "3\n",
      "4\n",
      "5\n",
      "6\n",
      "7\n",
      "8\n",
      "9\n",
      "10\n",
      "queue is empty\n",
      "-1\n",
      "[1, 2, 3, 4, 5, 6, 7, 8, 9, 10]\n"
     ]
    }
   ],
   "source": [
    "size = 10\n",
    "q = [0] * 10\n",
    "front = rear = -1\n",
    "\n",
    "# 삽입 연산\n",
    "def enq(item):\n",
    "    global rear\n",
    "    if rear == size - 1:\n",
    "        print('queue is full')\n",
    "        return -1\n",
    "    rear += 1\n",
    "    q[rear] = item\n",
    "\n",
    "\n",
    "def deq():\n",
    "    global front\n",
    "    if isEmpty():\n",
    "        print(\"queue is empty\")\n",
    "        return -1\n",
    "    else:\n",
    "        front += 1\n",
    "        return q[front]\n",
    "\n",
    "def isFull():\n",
    "    return front == size - 1\n",
    "\n",
    "\n",
    "def isEmpty():\n",
    "    return front == rear \n",
    "\n",
    "\n",
    "for i in range(1,11):\n",
    "    enq(i)\n",
    "for _ in range(11):\n",
    "    print(deq())\n",
    "print(q)"
   ]
  },
  {
   "cell_type": "code",
   "execution_count": 30,
   "metadata": {},
   "outputs": [
    {
     "name": "stdout",
     "output_type": "stream",
     "text": [
      "circular queue is full\n",
      "circular queue is full\n",
      "circular queue is full\n",
      "[0, 1, 4, 9, 16, 25, 36, 49, 64, 81]\n",
      "1\n",
      "4\n",
      "9\n",
      "16\n",
      "25\n",
      "36\n",
      "49\n",
      "64\n",
      "81\n",
      "queue is empty\n",
      "-1\n",
      "queue is empty\n",
      "-1\n",
      "[0, 1, 4, 9, 16, 25, 36, 49, 64, 81]\n"
     ]
    }
   ],
   "source": [
    "size = 10\n",
    "cq = [0] * size\n",
    "front = rear = 0\n",
    "\n",
    "def enq(item):\n",
    "    global rear\n",
    "    # 큐가 가득 차 있을 때에는 삽입하지 않는다.\n",
    "    if isFull():\n",
    "        print(\"circular queue is full\")\n",
    "        return -1\n",
    "    else:\n",
    "        rear = (rear + 1) % size\n",
    "        cq[rear] = item\n",
    "\n",
    "\n",
    "def deq():\n",
    "    global front\n",
    "    if isEmpty():\n",
    "        print(\"queue is empty\")\n",
    "        return -1\n",
    "    else:\n",
    "        front = (front + 1) % size\n",
    "        return cq[front]\n",
    "\n",
    "\n",
    "def isEmpty():\n",
    "    return front == rear\n",
    "\n",
    "\n",
    "def isFull():\n",
    "    return (rear + 1) % size == front\n",
    "\n",
    "\n",
    "for i in range(1, 12 + 1):\n",
    "    enq(i ** 2)\n",
    "print(cq)\n",
    "for j in range(11):\n",
    "    print(deq())\n",
    "print(cq)"
   ]
  },
  {
   "cell_type": "markdown",
   "metadata": {},
   "source": [
    "### Circular-Queue  \n",
    "[[to contents]](#contents)  "
   ]
  },
  {
   "cell_type": "markdown",
   "metadata": {},
   "source": [
    "### Priority-Queue  \n",
    "[[to contents]](#contents)  "
   ]
  },
  {
   "cell_type": "markdown",
   "metadata": {},
   "source": [
    "### Buffer  \n",
    "[[to contents]](#contents) "
   ]
  },
  {
   "cell_type": "markdown",
   "metadata": {},
   "source": [
    "### BFS  \n",
    "[[to contents]](#contents)  "
   ]
  },
  {
   "cell_type": "markdown",
   "metadata": {},
   "source": [
    "### BFS Examples  \n",
    "[[to contents]](#contents) "
   ]
  },
  {
   "cell_type": "code",
   "execution_count": 5,
   "metadata": {},
   "outputs": [
    {
     "name": "stdout",
     "output_type": "stream",
     "text": [
      "[[], [2, 3], [1, 4, 5], [1, 7], [2, 6], [2, 6], [4, 5, 7], [6, 3]]\n"
     ]
    }
   ],
   "source": [
    "x = [1,2,1,3,2,4,2,5,4,6,5,6,6,7,3,7]\n",
    "adj_lst = list([] for _ in range(8))\n",
    "\n",
    "for i in range(len(x) // 2):\n",
    "    adj_lst[x[i * 2]].append(x[i * 2 + 1])\n",
    "    adj_lst[x[i * 2 + 1]].append(x[i * 2])\n",
    "\n",
    "print(adj_lst)"
   ]
  },
  {
   "cell_type": "code",
   "execution_count": 6,
   "metadata": {},
   "outputs": [
    {
     "name": "stdout",
     "output_type": "stream",
     "text": [
      "1 2 3 4 5 7 6 \n",
      "[0, 1, 2, 2, 3, 3, 4, 3]\n"
     ]
    }
   ],
   "source": [
    "def bfs(s, v): # s: 시작정점, v: 마지막 정점\n",
    "    visited = [0] * (v + 1)  # visited 생성\n",
    "    q = []  # 큐 생성\n",
    "    q.append(s)  # 시작정점 enqueue\n",
    "    visited[s] = 1  # 방문처리\n",
    "    while q:  # 큐에 정점이 남아있는 한(not isEmpty())\n",
    "        t = q.pop(0)  # dequeue\n",
    "        print(t, end=' ')  # 방문 정점에서 할 일\n",
    "        for w in adj_lst[t]:\n",
    "            if visited[w] == 0:\n",
    "                q.append(w)\n",
    "                visited[w] = visited[t] + 1\n",
    "    print()\n",
    "    return visited\n",
    "\n",
    "\n",
    "print(bfs(1, 7))\n",
    "\n"
   ]
  },
  {
   "cell_type": "code",
   "execution_count": null,
   "metadata": {},
   "outputs": [],
   "source": [
    "#         0    1    2    3    4    5    6    7    8    9      \n",
    "node =  [\"X\", \"A\", \"B\", \"C\", \"D\", \"E\", \"F\", \"G\", \"H\", \"I\"] \n",
    "\n",
    "# G: 그래프 정보\n",
    "# v: 시작 정점 번호\n",
    "# N: 정점의 갯수\n",
    "\n",
    "def bfs(G, v, N):\n",
    "    # 중복방문을 막기 위한 방문기록\n",
    "    visited = [0] ( (N + 1))\n",
    "    # 큐 생성\n",
    "    q = []\n",
    "    # 시작점으 큐에 넣은 상태로 방문시작\n",
    "    q.append(v)\n",
    "    visited[v] = 1\n",
    "\n",
    "    # 큐가 빌 때까지 계속 방문\n",
    "    while q:\n",
    "        # dequeue\n",
    "        t  =q.pop(0)\n",
    "        # 현재 정점 t에 연결된 모든 정점 i를 탐색순회\n",
    "        for i in G[t]:\n",
    "            # i번 정점을 방문한 적이 없을 때\n",
    "            if not visited[i]:\n",
    "            q.append(i)\n",
    "            visited[i] = visited[t] + 1        \n",
    "\n",
    "\n",
    "\n",
    "V, E = map(int, input().split())\n",
    "G = [[] for _ in range(V + 1)]\n",
    "\n",
    "for i in range(E):\n",
    "    start, to = map(int, input().split())\n",
    "    G[start]"
   ]
  },
  {
   "cell_type": "markdown",
   "metadata": {},
   "source": []
  }
 ],
 "metadata": {
  "kernelspec": {
   "display_name": "Python 3",
   "language": "python",
   "name": "python3"
  },
  "language_info": {
   "codemirror_mode": {
    "name": "ipython",
    "version": 3
   },
   "file_extension": ".py",
   "mimetype": "text/x-python",
   "name": "python",
   "nbconvert_exporter": "python",
   "pygments_lexer": "ipython3",
   "version": "3.9.13"
  },
  "orig_nbformat": 4
 },
 "nbformat": 4,
 "nbformat_minor": 2
}
