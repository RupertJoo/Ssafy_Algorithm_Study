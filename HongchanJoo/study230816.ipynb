{
 "cells": [
  {
   "cell_type": "code",
   "execution_count": null,
   "metadata": {},
   "outputs": [],
   "source": []
  },
  {
   "cell_type": "markdown",
   "metadata": {},
   "source": [
    "진도가 밀리고 있다.. 악깡으로  쫒아가자\n",
    "\n",
    "스택2  \n",
    "- 계산기1  \n",
    "- 계산기2  \n",
    "- 백트래킹  \n",
    "- 부분집합, 순열  \n",
    "- 분할정복  \n",
    "\n",
    "\n",
    "백트래킹을 하려면 재귀에 대해 알고 있어야 한다!\n",
    "f(i, N)  # 현재단계, N: 목표\n",
    "    if i == N:\n",
    "        return\n",
    "    else:\n",
    "        f(i + 1, N)\n",
    "<!-- ![image](./refs/wizamon.png)   -->\n",
    "<img src=\"./refs/wizamon.png\" width=\"200\" height=\"200\"/>\n"
   ]
  },
  {
   "cell_type": "code",
   "execution_count": null,
   "metadata": {},
   "outputs": [],
   "source": [
    "def f(i, N):\n",
    "    if i == N:\n",
    "        return\n",
    "    else:\n",
    "        B[i] = A[i]\n",
    "        f(i + 1, N)\n",
    "        return\n",
    "    \n",
    "N = 3\n",
    "A = [1, 2, 3]\n",
    "B = [0] * N\n",
    "f(0, N)\n",
    "print(B)"
   ]
  },
  {
   "cell_type": "code",
   "execution_count": null,
   "metadata": {},
   "outputs": [],
   "source": [
    "# 부분집합 재귀\n",
    "def f(i, N):\n",
    "    if i == N:\n",
    "        print(bit, end=\" \")\n",
    "        s = 0\n",
    "        for j in range(N):\n",
    "            if bit[j]:\n",
    "                s += A[j]\n",
    "                print(A[j], end=\" \")\n",
    "        print(f\"sum_subset = {s}\")        \n",
    "        return\n",
    "    else:\n",
    "        bit[i] = 1\n",
    "        f(i + 1, N)\n",
    "        bit[i] = 0\n",
    "        f(i + 1, N)\n",
    "        return\n",
    "\n",
    "A = [1,2,3]\n",
    "bit = [0] * 3\n",
    "f(0, 3)"
   ]
  },
  {
   "cell_type": "code",
   "execution_count": null,
   "metadata": {},
   "outputs": [],
   "source": [
    "# 부분집합 재귀2\n",
    "def f(i, N, s):  # s: i - 1 원소까지 부분집합의 합(포함된 원소의 합)\n",
    "    if i == N:\n",
    "        print(bit, end=\" \")\n",
    "        for j in range(N):\n",
    "            if bit[j]:\n",
    "                # s += A[j]\n",
    "                print(A[j], end=\" \")\n",
    "        print(f\"sum_subset = {s}\")        \n",
    "        return\n",
    "    else:\n",
    "        bit[i] = 1\n",
    "        f(i + 1, N, s + A[i])  # 부분집합에 A[i] 포함\n",
    "        bit[i] = 0\n",
    "        f(i + 1, N, s)  # 부분집합에 A[i] 미포함\n",
    "        return\n",
    "\n",
    "A = [1,2,3]\n",
    "bit = [0] * 3\n",
    "f(0, 3, 0)"
   ]
  },
  {
   "cell_type": "code",
   "execution_count": null,
   "metadata": {},
   "outputs": [],
   "source": [
    "# 1 부터 10까지 자연수들을 원소로 갖는 집합에 대하여, 부분집합의 합 연습문제\n",
    "N = 10\n",
    "A = list(range(1, N + 1))\n",
    "bit = [0] * N\n",
    "\n",
    "def f(i, N, s, t):  # s: i - 1 원소까지 부분집합의 합(포함된 원소의 합)\n",
    "    global cnt\n",
    "    cnt += 1\n",
    "    if i == N:\n",
    "        if s == t:\n",
    "            print(bit)\n",
    "        if s == N:\n",
    "            pass\n",
    "\n",
    "        # print(bit, end=\" \")\n",
    "        # for j in range(N):\n",
    "        #     if bit[j]:\n",
    "        #         # s += A[j]\n",
    "        #         print(A[j], end=\" \")\n",
    "        # print(f\"sum_subset = {s}\")        \n",
    "        return\n",
    "    else:\n",
    "        bit[i] = 1\n",
    "        f(i + 1, N, s + A[i], t)  # 부분집합에 A[i] 포함\n",
    "        bit[i] = 0\n",
    "        f(i + 1, N, s, t)  # 부분집합에 A[i] 미포함\n",
    "        return\n",
    "cnt = 0\n",
    "x = f(0, N, 0, 10) \n",
    "print(cnt)\n",
    "\n",
    "# 못한부분 집에서 강의보면서 채워넣기\n",
    "# 모든 경우의 수를 확인 후 가지치기한다"
   ]
  },
  {
   "cell_type": "code",
   "execution_count": 50,
   "metadata": {},
   "outputs": [
    {
     "name": "stdout",
     "output_type": "stream",
     "text": [
      "[1, 2, 3, 4]\n",
      "[1, 2, 4, 3]\n",
      "[1, 3, 2, 4]\n",
      "[1, 3, 4, 2]\n",
      "[1, 4, 3, 2]\n",
      "[1, 4, 2, 3]\n",
      "[2, 1, 3, 4]\n",
      "[2, 1, 4, 3]\n",
      "[2, 3, 1, 4]\n",
      "[2, 3, 4, 1]\n",
      "[2, 4, 3, 1]\n",
      "[2, 4, 1, 3]\n",
      "[3, 2, 1, 4]\n",
      "[3, 2, 4, 1]\n",
      "[3, 1, 2, 4]\n",
      "[3, 1, 4, 2]\n",
      "[3, 4, 1, 2]\n",
      "[3, 4, 2, 1]\n",
      "[4, 2, 3, 1]\n",
      "[4, 2, 1, 3]\n",
      "[4, 3, 2, 1]\n",
      "[4, 3, 1, 2]\n",
      "[4, 1, 3, 2]\n",
      "[4, 1, 2, 3]\n"
     ]
    }
   ],
   "source": [
    "# 순열 만들기\n",
    "def f(i, N):\n",
    "    if i == N:\n",
    "        print(A)\n",
    "    else:\n",
    "        for j in range(i, N):  # 자신부터 오른쪽 끝까지 자리를 바꿔준다\n",
    "            A[i], A[j] = A[j], A[i]\n",
    "            f(i + 1, N)\n",
    "            A[i], A[j] = A[j], A[i]\n",
    "N = 4\n",
    "A = list(range(1, N + 1))\n",
    "f(0, N)"
   ]
  },
  {
   "cell_type": "code",
   "execution_count": 57,
   "metadata": {},
   "outputs": [
    {
     "name": "stdout",
     "output_type": "stream",
     "text": [
      "1024\n",
      "1024\n"
     ]
    }
   ],
   "source": [
    "def f1(b, e):\n",
    "    if b == 0:\n",
    "        return 1\n",
    "    r = 1\n",
    "    for i in range(e):\n",
    "        r *= b\n",
    "    return r\n",
    "\n",
    "def f2(b, e):\n",
    "    if b == 0 or e == 0:\n",
    "        return 1\n",
    "    if e % 2:\n",
    "        r = f2(b, (e-1) // 2)\n",
    "        return r * r * b\n",
    "    else:\n",
    "        r = f2(b, e // 2)\n",
    "        return r * r\n",
    "\n",
    "print(f1(2, 10))\n",
    "print(f2(2, 10))\n",
    "        \n",
    "\n"
   ]
  }
 ],
 "metadata": {
  "kernelspec": {
   "display_name": "Python 3",
   "language": "python",
   "name": "python3"
  },
  "language_info": {
   "codemirror_mode": {
    "name": "ipython",
    "version": 3
   },
   "file_extension": ".py",
   "mimetype": "text/x-python",
   "name": "python",
   "nbconvert_exporter": "python",
   "pygments_lexer": "ipython3",
   "version": "3.9.13"
  },
  "orig_nbformat": 4
 },
 "nbformat": 4,
 "nbformat_minor": 2
}
