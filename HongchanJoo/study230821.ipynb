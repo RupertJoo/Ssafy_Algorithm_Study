{
 "cells": [
  {
   "cell_type": "code",
   "execution_count": 10,
   "metadata": {},
   "outputs": [
    {
     "name": "stdout",
     "output_type": "stream",
     "text": [
      "[0, 2, 0, 4, 0, 0]\n",
      "[0, 3, 0, 5, 0, 0]\n",
      "3\n",
      "1\n"
     ]
    }
   ],
   "source": [
    "# 4\n",
    "# 1 2 1 3 3 4 3 5\n",
    "\n",
    "N = 5\n",
    "# E = int(input())\n",
    "E = 4\n",
    "# tree = list(map(int, input().split()))\n",
    "tree = list(map(int, '1 2 1 3 3 4 3 5'.split()))\n",
    "\n",
    "child_left = [0] * (N + 1)\n",
    "child_right = [0] * (N + 1)\n",
    "\n",
    "for i in range(E):\n",
    "    parent = tree[i * 2]\n",
    "    child = tree[i * 2 + 1]\n",
    "\n",
    "    if not child_left[parent]:\n",
    "        child_left[parent] = child\n",
    "    else:\n",
    "        child_right[parent] = child\n",
    "\n",
    "\n",
    "parent = [0] * (N + 1)\n",
    "for i in range(E):\n",
    "    p = tree[i * 2]\n",
    "    c = tree[i * 2 + 1]\n",
    "    parent[c] = p\n",
    "\n",
    "print(child_left)\n",
    "print(child_right)\n",
    "# print(parent)\n",
    "\n",
    "now = 5\n",
    "while parent[now]:\n",
    "    print(parent[now])\n",
    "    now = parent[now]"
   ]
  },
  {
   "cell_type": "code",
   "execution_count": 11,
   "metadata": {},
   "outputs": [
    {
     "name": "stdout",
     "output_type": "stream",
     "text": [
      "A\n",
      "D\n",
      "E\n",
      "B\n",
      "C\n"
     ]
    }
   ],
   "source": [
    "class Node:\n",
    "\n",
    "    def __init__(self,data):\n",
    "        self.data = data\n",
    "        self.left = None\n",
    "        self.right = None\n",
    "\n",
    "A = Node(\"A\")\n",
    "B = Node(\"B\")\n",
    "C = Node(\"C\")\n",
    "D = Node(\"D\")\n",
    "E = Node(\"E\")\n",
    "\n",
    "root = A\n",
    "A.left = D\n",
    "A.right = E\n",
    "E.left = B\n",
    "E.right = C\n",
    "\n",
    "def preorder(Node):\n",
    "    if Node:\n",
    "        print(Node.data)\n",
    "        preorder(Node.left)\n",
    "        preorder(Node.right)\n",
    "\n",
    "preorder(A)\n"
   ]
  },
  {
   "cell_type": "code",
   "execution_count": 12,
   "metadata": {},
   "outputs": [
    {
     "name": "stdout",
     "output_type": "stream",
     "text": [
      "1 2 4 7 12 3 5 8 9 6 10 11 13 \n",
      "12 7 4 2 1 8 5 9 3 10 6 13 11 \n",
      "12 7 4 2 8 9 5 10 13 11 6 3 1 "
     ]
    }
   ],
   "source": [
    "\\\n",
    "\"\"\"\n",
    "13\n",
    "1 2 1 3 2 4 3 5 3 6 4 7 5 8 5 9 6 10 6 11 7 12 11 13\n",
    "\"\"\"\n",
    "# N = int(input())\n",
    "N = 13\n",
    "# tree = list(map(int, input().split())) \n",
    "tree = list(map(int, \"1 2 1 3 2 4 3 5 3 6 4 7 5 8 5 9 6 10 6 11 7 12 11 13\".split())) \n",
    "# 인덱스가 부모노드의 번호\n",
    "cleft = [0] * (N + 1)\n",
    "cright = [0] * (N + 1)\n",
    "for i in range(N - 1):\n",
    "    p = tree[i * 2]\n",
    "    c = tree[i * 2 + 1]\n",
    "    if cleft[p] == 0:\n",
    "        cleft[p] = c\n",
    "    else:\n",
    "        cright[p] = c\n",
    "# 1. 전위순회 preorder V - L - R\n",
    "def preorder(t):\n",
    "    if t:\n",
    "        # t에서 방문처리\n",
    "        print(t, end=\" \")\n",
    "        # 왼쪽\n",
    "        preorder(cleft[t])\n",
    "        # 오른쪽\n",
    "        preorder(cright[t])\n",
    "# 2. 중위순회 inorder L - V - R\n",
    "def inorder(t):\n",
    "    if t:\n",
    "        # 왼쪽\n",
    "        inorder(cleft[t])\n",
    "        # t에서 방문처리\n",
    "        print(t, end=\" \")\n",
    "        # 오른쪽\n",
    "        inorder(cright[t])\n",
    "# 3. 후위순회 postorder L - R - V\n",
    "def postorder(t):\n",
    "    if t:\n",
    "        # 왼쪽\n",
    "        postorder(cleft[t])\n",
    "        # 오른쪽\n",
    "        postorder(cright[t])\n",
    "        # t에서 방문처리\n",
    "        print(t, end=\" \")\n",
    "preorder(1)\n",
    "print()\n",
    "inorder(1)\n",
    "print()\n",
    "postorder(1)"
   ]
  }
 ],
 "metadata": {
  "kernelspec": {
   "display_name": "Python 3",
   "language": "python",
   "name": "python3"
  },
  "language_info": {
   "codemirror_mode": {
    "name": "ipython",
    "version": 3
   },
   "file_extension": ".py",
   "mimetype": "text/x-python",
   "name": "python",
   "nbconvert_exporter": "python",
   "pygments_lexer": "ipython3",
   "version": "3.9.13"
  },
  "orig_nbformat": 4
 },
 "nbformat": 4,
 "nbformat_minor": 2
}
